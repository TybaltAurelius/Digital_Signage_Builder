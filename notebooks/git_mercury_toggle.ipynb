{
 "cells": [
  {
   "cell_type": "code",
   "execution_count": null,
   "metadata": {},
   "outputs": [],
   "source": [
    "import mercury as mr\n",
    "import requests\n",
    "import time\n",
    "import base64"
   ]
  },
  {
   "cell_type": "code",
   "execution_count": null,
   "metadata": {},
   "outputs": [],
   "source": [
    "#https://github.com/smurphy13IIT/Digital_Signage_Builder.git\n",
    "owner = \"smurphy13IIT\"\n",
    "repo_name = \"Digital_Signage_Builder\"\n"
   ]
  },
  {
   "cell_type": "code",
   "execution_count": null,
   "metadata": {},
   "outputs": [],
   "source": [
    "#fork_repository(owner, repo_name, token)\n",
    "def fork_repository(owner, repo_name, token):\n",
    "    url = f\"https://api.github.com/repos/{owner}/{repo_name}/forks\"\n",
    "    headers = {\n",
    "        \"Authorization\": f\"bearer {token}\",\n",
    "        \"Accept\": \"application/vnd.github.v3+json\"\n",
    "    }\n",
    "    response = requests.post(url, headers=headers)\n",
    "    print(response)\n",
    "\n",
    "def write_string_to_file(my_repo, repo_name, file_path, slideshow_name, token, file_content):\n",
    "    url = f\"https://api.github.com/repos/{my_repo}/{repo_name}/contents/sites/{slideshow_name}/{file_path}\"\n",
    "    headers = {\n",
    "        \"Authorization\": f\"token {token}\",\n",
    "        \"Accept\": \"application/vnd.github.v3+json\",\n",
    "        \"X-GitHub-Api-Version\": \"2022-11-28\"\n",
    "    }\n",
    "\n",
    "    # Encode file content as base64\n",
    "    content_bytes = file_content.encode('utf-8')\n",
    "    content_base64 = base64.b64encode(content_bytes).decode('utf-8')\n",
    "\n",
    "    data = {\n",
    "        \"message\": \"Write string to file\",\n",
    "        \"content\": content_base64\n",
    "    }\n",
    "\n",
    "    try:\n",
    "        response = requests.put(url, headers=headers, json=data)\n",
    "        response.raise_for_status()\n",
    "        #print(\"String written to file successfully!\")\n",
    "\n",
    "    except requests.HTTPError as e:\n",
    "        print(f\"Error writing string to file: {e}\")"
   ]
  },
  {
   "cell_type": "code",
   "execution_count": null,
   "metadata": {},
   "outputs": [],
   "source": [
    "app = mr.App(title=\"Git Connection\", description=\"App for forking the Digital Signage Builder Github repository.\")\n",
    "username_widget = mr.Text(value=\"username\", label=\"Provide your Github Username:\", rows=1)\n",
    "token_widget = mr.Text(value=\"token\", label=\"Provide your Github Personal Token:\", rows=1)\n",
    "action_select = mr.Select(value= \"Update Slides\", choices= [\"Update Slides\", \"Create New Slides App\"], label= \"Select an action, then click 'Run':\")"
   ]
  },
  {
   "cell_type": "code",
   "execution_count": null,
   "metadata": {},
   "outputs": [],
   "source": [
    "if action_select.value == \"Create New Slides App\":\n",
    "    button = mr.Button(label=\"Create Signage Repo\", style=\"primary\")\n",
    "    token = token_widget.value\n",
    "    username = username_widget.value\n",
    "    fork_repository(owner, repo_name, token)\n",
    "    mr.Markdown(text=\"\"\"#New Signage App Successfully Created!\"\n",
    "    \"\"\")\n",
    "\n",
    "elif action_select.value == \"Update Slides\":\n",
    "    slideshow_input = mr.Text(value=\"Slideshow Name\", label=\"Give your slideshow a name:\")\n",
    "    slideshow_name = slideshow_input.value\n",
    "    token = token_widget.value\n",
    "    start_update = mr.Button(label=\"Begin Slides Update\", style=\"primary\")\n",
    "    commit_message = \"create file via PyGitHub\"\n",
    "    file_content = \"Hello World!\"\n",
    "    filename = f\"{slideshow_name}.txt\"\n",
    "    file_path = f\"{slideshow_name}\"\n",
    "\n",
    "    if start_update.clicked:\n",
    "        write_string_to_file(username_widget.value, repo_name, file_path, slideshow_name, token, file_content)\n",
    "        mr.Markdown(text=\"\"\"#Slides Update Complete!\n",
    "        \"\"\")"
   ]
  },
  {
   "cell_type": "markdown",
   "metadata": {},
   "source": [
    "# Digital Signage Builder\n",
    "## IIT Galvin Library\n",
    "#### Step 1: Create a Github account by <a href=\"https://docs.github.com/en/get-started/start-your-journey/creating-an-account-on-github\">following these instructions</a>.\n",
    "#### Step 2: Create a Personal Access Token <a href=\"https://docs.github.com/en/enterprise-server@3.9/authentication/keeping-your-account-and-data-secure/managing-your-personal-access-tokens\">following these steps</a>.\n",
    "#### NOTE: Your Github Personal Access Token is like a password. While this script will not save your token after you leave, you should treat it securely like any other password.\n",
    "#### Step 3: Type your Github username in the \"username\" text box, then hit \"enter\".\n",
    "#### Step 4: Paste your Github Personal Access Token in the \"token\" text box, then hit \"enter\".\n",
    "#### Step 5: Click \"Create Signage Repo\" to copy your own version of the Digital Signage Builder installation.\n",
    "\n",
    "NEED TO ADD:\n",
    "\n",
    "- Method of uploading slide images for the slideshow\n",
    "- Code to check existing slides folder and remove any that aren't submitted to this app\n",
    "- Code to set up Github Page for the user's Digital Signage Builder fork"
   ]
  }
 ],
 "metadata": {
  "language_info": {
   "name": "python"
  }
 },
 "nbformat": 4,
 "nbformat_minor": 2
}
