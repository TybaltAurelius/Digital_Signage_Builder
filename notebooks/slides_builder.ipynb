{
 "cells": [
  {
   "cell_type": "code",
   "execution_count": null,
   "metadata": {},
   "outputs": [],
   "source": [
    "import mercury as mr\n",
    "import requests\n",
    "import time"
   ]
  },
  {
   "cell_type": "code",
   "execution_count": null,
   "metadata": {},
   "outputs": [],
   "source": [
    "json_url = \"https://library.iit.edu/api/v1/slides_rest\"\n",
    "hours_url = \"https://iit.libcal.com/api_hours_today.php?iid=5544&lid=0&format=json&systemTime=0\"\n",
    "template_filepath = \"template.html\"\n",
    "cta_flag = True\n",
    "build_html = \"\""
   ]
  },
  {
   "cell_type": "code",
   "execution_count": null,
   "metadata": {},
   "outputs": [],
   "source": [
    "def dru_slides_builder(json_url):\n",
    "    slides_call = requests.get(json_url)\n",
    "    if slides_call.status_code == 200:\n",
    "        web_slides_dict = slides_call.json()\n",
    "\n",
    "    slides_list = []\n",
    "    slides = ''\n",
    "\n",
    "    for i in web_slides_dict:\n",
    "        image_url = i[\"field_image\"]\n",
    "        title = i['title_1']\n",
    "        if image_url != '':\n",
    "            section = f'<section data-background-image={image_url} data-background-size=\"contain, 100%\"></section>'\n",
    "            slides_list.append(section)\n",
    "\n",
    "    for i in slides_list:\n",
    "        slides += (\"\\t\\t\\t\\t\\t\\t\" + i + \"\\n\")\n",
    "\n",
    "    slides = \"<div class=\\\"slides\\\">\\n\" + slides[:-1]\n",
    "\n",
    "    return slides"
   ]
  },
  {
   "cell_type": "code",
   "execution_count": null,
   "metadata": {},
   "outputs": [],
   "source": [
    "def build_slides_html(template_filepath, slides, hours_url, cta_flag):\n",
    "\n",
    "    hours_call = requests.get(hours_url)\n",
    "    if hours_call.status_code == 200:\n",
    "        hours_dict = hours_call.json()\n",
    "\n",
    "    with open(template_filepath, 'r') as template:\n",
    "        slides_html = template.read()\n",
    "\n",
    "    content = \"<div class=\\\"slides\\\">\"\n",
    "\n",
    "    hours_div = '<div id=\"todays_hours\">'\n",
    "\n",
    "    openfrom = hours_dict['locations'][0]['times']['hours'][0]['from']\n",
    "    opento = hours_dict['locations'][0]['times']['hours'][0]['to']\n",
    "    hours_statement = '''<div id=\\\"todays_hours\\\">\n",
    "                <p>{todays_hours}</p>\n",
    "            '''\n",
    "\n",
    "    todays_hours = \"Today's Library Hours: {openfrom} - {opento}\"\n",
    "    todays_hours = todays_hours.format(openfrom=openfrom, opento=opento)\n",
    "    hours_statement = hours_statement.format(todays_hours=todays_hours)\n",
    "\n",
    "    slides_html = slides_html.replace(content, slides)\n",
    "\n",
    "    if cta_flag == False:\n",
    "        sidebar_right = \"<div id=\\\"sidebar-right\\\">\"\n",
    "        sidebar_right_hidden = \"<div id=\\\"sidebar-right\\\" class=\\\"hidden\\\">\"\n",
    "        slides_html = slides_html.replace(sidebar_right, sidebar_right_hidden)\n",
    "\n",
    "    slides_html = slides_html.replace(hours_div, hours_statement)\n",
    "\n",
    "    return slides_html"
   ]
  },
  {
   "cell_type": "code",
   "execution_count": null,
   "metadata": {},
   "outputs": [],
   "source": [
    "app = mr.App(title=\"Slides Builder\", description=\"App for generating an html file from images hosted in Drupal to create a Reveal.js digital sign.\")"
   ]
  },
  {
   "cell_type": "code",
   "execution_count": null,
   "metadata": {},
   "outputs": [],
   "source": [
    "my_dir = mr.OutputDir()"
   ]
  },
  {
   "cell_type": "code",
   "execution_count": null,
   "metadata": {},
   "outputs": [],
   "source": [
    "my_flag = mr.Checkbox(value=True, label=\"Include CTA Tracker?\")\n",
    "show_html = mr.Checkbox(value=False, label=\"Show raw HTML after generating?\")\n",
    "button = mr.Button(label=\"Click To Build Slides\", style=\"primary\")"
   ]
  },
  {
   "cell_type": "markdown",
   "metadata": {},
   "source": [
    "# Digital Signage Builder\n",
    "## IIT Galvin Library\n",
    "#### Click the button at left to generate a new index.html file containing updated digital slide content.\n",
    "#### Slide content is retrieved from Drupal.\n",
    "#### Click \"Output Files\" at left to find the newly created index.html file.\n",
    "#### Save this file in your Reveal.js directory, replacing the existing index.html."
   ]
  },
  {
   "cell_type": "code",
   "execution_count": null,
   "metadata": {},
   "outputs": [],
   "source": [
    "if button.clicked:\n",
    "    slides = dru_slides_builder(json_url)\n",
    "    \n",
    "    if my_flag.value:\n",
    "        cta_flag = True\n",
    "    else:\n",
    "        cta_flag = False\n",
    "\n",
    "    build_html = build_slides_html(template_filepath, slides, hours_url, cta_flag)\n",
    "\n",
    "    if show_html.value:\n",
    "        print(build_html)\n",
    "    else:\n",
    "        pass\n",
    "\n",
    "    with open(os.path.join(my_dir.path, \"index.html\"), \"w\") as fout:\n",
    "        fout.write(build_html)\n",
    "        print('''New Slide Page Created! Check the \"Output Files\" folder.''')"
   ]
  }
 ],
 "metadata": {
  "language_info": {
   "name": "python"
  }
 },
 "nbformat": 4,
 "nbformat_minor": 2
}
