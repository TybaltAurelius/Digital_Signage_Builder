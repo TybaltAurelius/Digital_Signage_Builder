{
 "cells": [
  {
   "cell_type": "code",
   "execution_count": null,
   "metadata": {},
   "outputs": [],
   "source": [
    "import mercury as mr\n",
    "import requests\n",
    "import time"
   ]
  },
  {
   "cell_type": "code",
   "execution_count": null,
   "metadata": {},
   "outputs": [],
   "source": [
    "#https://github.com/smurphy13IIT/Digital_Signage_Builder.git\n",
    "owner = \"smurphy13IIT\"\n",
    "repo_name = \"Digital_Signage_Builder\"\n"
   ]
  },
  {
   "cell_type": "code",
   "execution_count": null,
   "metadata": {},
   "outputs": [],
   "source": [
    "#fork_repository(owner, repo_name, token)\n",
    "def fork_repository(owner, repo_name, token):\n",
    "    url = f\"https://api.github.com/repos/{owner}/{repo_name}/forks\"\n",
    "    headers = {\n",
    "        \"Authorization\": f\"bearer {token}\",\n",
    "        \"Accept\": \"application/vnd.github.v3+json\"\n",
    "    }\n",
    "    response = requests.post(url, headers=headers)\n",
    "    print(response)"
   ]
  },
  {
   "cell_type": "code",
   "execution_count": null,
   "metadata": {},
   "outputs": [],
   "source": [
    "app = mr.App(title=\"Git Connection\", description=\"App for forking the Digital Signage Builder Github repository.\")"
   ]
  },
  {
   "cell_type": "code",
   "execution_count": null,
   "metadata": {},
   "outputs": [],
   "source": [
    "username_widget = mr.Text(value=\"username\", label=\"Provide your Github Username\", rows=1)"
   ]
  },
  {
   "cell_type": "code",
   "execution_count": null,
   "metadata": {},
   "outputs": [],
   "source": [
    "token_widget = mr.Text(value=\"token\", label=\"Provide your Github Personal Token:\", rows=1)"
   ]
  },
  {
   "cell_type": "code",
   "execution_count": null,
   "metadata": {},
   "outputs": [],
   "source": [
    "button = mr.Button(label=\"Create Signage Repo\", style=\"primary\")"
   ]
  },
  {
   "cell_type": "code",
   "execution_count": null,
   "metadata": {},
   "outputs": [],
   "source": [
    "token = token_widget.value\n",
    "username = username_widget.value"
   ]
  },
  {
   "cell_type": "code",
   "execution_count": null,
   "metadata": {},
   "outputs": [],
   "source": [
    "if button.clicked:\n",
    "    fork_repository(owner, repo_name, token)"
   ]
  },
  {
   "cell_type": "markdown",
   "metadata": {},
   "source": [
    "# Digital Signage Builder\n",
    "## IIT Galvin Library\n",
    "#### Step 1: Create a Github account by <a href=\"https://docs.github.com/en/get-started/start-your-journey/creating-an-account-on-github\">following these instructions</a>.\n",
    "#### Step 2: Create a Personal Access Token <a href=\"https://docs.github.com/en/enterprise-server@3.9/authentication/keeping-your-account-and-data-secure/managing-your-personal-access-tokens\">following these steps</a>.\n",
    "#### NOTE: Your Github Personal Access Token is like a password. While this script will not save your token after you leave, you should treat it securely like any other password.\n",
    "#### Step 3: Type your Github username in the \"username\" text box, then hit \"enter\".\n",
    "#### Step 4: Paste your Github Personal Access Token in the \"token\" text box, then hit \"enter\".\n",
    "#### Step 5: Click \"Create Signage Repo\" to copy your own version of the Digital Signage Builder installation.\n",
    "\n",
    "NEED TO ADD:\n",
    "\n",
    "- Method of uploading slide images for the slideshow\n",
    "- Code to check existing slides folder and remove any that aren't submitted to this app\n",
    "- Code to set up Github Page for the user's Digital Signage Builder fork"
   ]
  }
 ],
 "metadata": {
  "language_info": {
   "name": "python"
  }
 },
 "nbformat": 4,
 "nbformat_minor": 2
}
